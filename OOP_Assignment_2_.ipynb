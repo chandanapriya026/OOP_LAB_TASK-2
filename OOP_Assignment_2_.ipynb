{
  "nbformat": 4,
  "nbformat_minor": 0,
  "metadata": {
    "colab": {
      "name": "OOP-Assignment_2 .ipynb",
      "provenance": [],
      "collapsed_sections": []
    },
    "kernelspec": {
      "name": "python3",
      "display_name": "Python 3"
    },
    "language_info": {
      "name": "python"
    }
  },
  "cells": [
    {
      "cell_type": "markdown",
      "metadata": {
        "id": "Ssbo3Ijzsa-A"
      },
      "source": [
        "BADIGINCHALA CHANDANA PRIYA \n",
        " (20BCS026) \n",
        " OOP_Assignment-2"
      ]
    },
    {
      "cell_type": "markdown",
      "metadata": {
        "id": "gbLW4NKBtBAa"
      },
      "source": [
        "Question - 1"
      ]
    },
    {
      "cell_type": "code",
      "metadata": {
        "colab": {
          "base_uri": "https://localhost:8080/"
        },
        "id": "qpvbqL7xvhQb",
        "outputId": "434acce6-abd1-4273-add9-3362534f34be"
      },
      "source": [
        "class CIRCLE():\n",
        "    def __init__(self, r):\n",
        "        self.radius = r\n",
        "\n",
        "    def area(self):\n",
        "        return self.radius**2*3.14\n",
        "    \n",
        "    def perimeter(self):\n",
        "        return 2*self.radius*3.14\n",
        "\n",
        "circle = CIRCLE(3)\n",
        "print(circle.area())\n",
        "print(circle.perimeter())"
      ],
      "execution_count": 11,
      "outputs": [
        {
          "output_type": "stream",
          "name": "stdout",
          "text": [
            "28.26\n",
            "18.84\n"
          ]
        }
      ]
    },
    {
      "cell_type": "markdown",
      "metadata": {
        "id": "LYftgXwltLkX"
      },
      "source": [
        "Question - 2"
      ]
    },
    {
      "cell_type": "code",
      "metadata": {
        "colab": {
          "base_uri": "https://localhost:8080/"
        },
        "id": "E1ZtOdBBwyCH",
        "outputId": "4be7a7dc-48ef-4c11-fb70-fd278edd77f6"
      },
      "source": [
        "class faculty:\n",
        "        def __init__(self, name, emp_id, branch, salary):\n",
        "            self.name=name\n",
        "            self.emp_id=emp_id\n",
        "            self.branch=branch\n",
        "            self.salary=salary\n",
        "            \n",
        "        def displayDetails(self):\n",
        "            print(\"Name:\", self.name, \", Employee ID:\", self.emp_id, \", Branch:\",self.branch,\", Salary:\", self.salary)\n",
        "            \n",
        "e1=faculty(\"Anil\", \"20bcs01\" , \"CSE\", 80000)\n",
        "e2=faculty(\"Arun\", \"20ece01\" , \"ECE\", 50000)\n",
        "e3=faculty(\"Riya\", \"20ece02\" , \"ECE\", 90000)\n",
        "e4=faculty(\"Ajay\", \"20bcs02\" , \"CSE\", 50000)\n",
        "e5=faculty(\"John\", \"20bds01\" , \"DSAI\", 60000)\n",
        "\n",
        "print(\"Data of a Faculty:\")\n",
        "e1.displayDetails()\n",
        "e2.displayDetails()\n",
        "e3.displayDetails()\n",
        "e4.displayDetails()\n",
        "e5.displayDetails()"
      ],
      "execution_count": 12,
      "outputs": [
        {
          "output_type": "stream",
          "name": "stdout",
          "text": [
            "Data of a Faculty:\n",
            "Name: Anil , Employee ID: 20bcs01 , Branch: CSE , Salary: 80000\n",
            "Name: Arun , Employee ID: 20ece01 , Branch: ECE , Salary: 50000\n",
            "Name: Riya , Employee ID: 20ece02 , Branch: ECE , Salary: 90000\n",
            "Name: Ajay , Employee ID: 20bcs02 , Branch: CSE , Salary: 50000\n",
            "Name: John , Employee ID: 20bds01 , Branch: DSAI , Salary: 60000\n"
          ]
        }
      ]
    },
    {
      "cell_type": "markdown",
      "metadata": {
        "id": "4iqdDmY1tRbP"
      },
      "source": [
        "Question - 3"
      ]
    },
    {
      "cell_type": "code",
      "metadata": {
        "colab": {
          "base_uri": "https://localhost:8080/"
        },
        "id": "-iuLnSJ8ga-8",
        "outputId": "e5e747a1-8e9e-4a4c-b3f3-9eadfe75b1fc"
      },
      "source": [
        "class Bank_Account:\n",
        "\n",
        "    def __init__(self, num, name, amt):\n",
        "        self.ACCOUNT_NUM = num\n",
        "        self.ACCOUNT_HOLDER_NAME = name\n",
        "        self.AMOUNT= amt      \n",
        "\n",
        "    def deposit(self):\n",
        "        amount=float(input(\"\\nEnter amount to be Deposited: \"))\n",
        "        self.AMOUNT += amount\n",
        "        print(\"\\nAmount %f /- is successfully deposited\" %amount)\n",
        "\n",
        "    def withdraw(self):\n",
        "        amount = float(input(\"\\nEnter amount to be Withdrawn: \"))\n",
        "        if self.AMOUNT>=amount:\n",
        "            self.AMOUNT-=amount\n",
        "            print(\"\\nYou have Withdrawn %f /-:\" %amount)\n",
        "        else:\n",
        "            print(\"\\n Insufficient balance \")\n",
        "\n",
        "    def check_balance(self):\n",
        "        print(\"\\nNet Available Balance=\",self.AMOUNT)\n",
        "  \n",
        "    def display_acc_details(self):\n",
        "      print(\"\\nAccount holder name= \",self.ACCOUNT_HOLDER_NAME)\n",
        "      print(\"\\nAccount number= \",self.ACCOUNT_NUM)\n",
        "      print(\"\\nNet Available Balance=\",self.AMOUNT)\n",
        "\n",
        "s = Bank_Account(1596 , \"Priya\" , 100000 )\n",
        "\n",
        "s.deposit()\n",
        "s.withdraw()\n",
        "s.check_balance()\n",
        "s.display_acc_details()"
      ],
      "execution_count": 13,
      "outputs": [
        {
          "output_type": "stream",
          "name": "stdout",
          "text": [
            "\n",
            "Enter amount to be Deposited: 50000\n",
            "\n",
            "Amount 50000.000000 /- is successfully deposited\n",
            "\n",
            "Enter amount to be Withdrawn: 20000\n",
            "\n",
            "You have Withdrawn 20000.000000 /-:\n",
            "\n",
            "Net Available Balance= 130000.0\n",
            "\n",
            "Account holder name=  Priya\n",
            "\n",
            "Account number=  1596\n",
            "\n",
            "Net Available Balance= 130000.0\n"
          ]
        }
      ]
    },
    {
      "cell_type": "markdown",
      "metadata": {
        "id": "cm3dk5eitURK"
      },
      "source": [
        "Question - 4"
      ]
    },
    {
      "cell_type": "code",
      "metadata": {
        "colab": {
          "base_uri": "https://localhost:8080/"
        },
        "id": "O9574Jbmhde3",
        "outputId": "bc0eb8a3-e26f-4194-b0e3-5c7b9227bbd3"
      },
      "source": [
        "class student:\n",
        "    \n",
        "    def __init__(self, name,usn):\n",
        "        self.name = name\n",
        "        self.usn = usn\n",
        "        self.marks = []\n",
        "\n",
        "    def enterMarks(self):\n",
        "        for i in range(3):\n",
        "            m = int(input(\"Enter the marks of the student in subject- %d : \"%(i+1)))\n",
        "            self.marks.append(m)\n",
        "            \n",
        "    def display(self):\n",
        "        print(\"\\nDetails of the student:\")\n",
        "        print(\"Name of the student: \",self.name)\n",
        "        print(\"Student's USN: \",self.usn)\n",
        "        print(\"Student's marks list: \",self.marks)\n",
        "\n",
        "name = input(\"Enter the name of Student: \")\n",
        "usn = input(\"Enter the USN of the student: \")\n",
        "s = student(name,usn)\n",
        "s.enterMarks()\n",
        "s.display()\n",
        "#print (\"\")\n"
      ],
      "execution_count": 14,
      "outputs": [
        {
          "output_type": "stream",
          "name": "stdout",
          "text": [
            "Enter the name of Student: Priya\n",
            "Enter the USN of the student: 20bcs026\n",
            "Enter the marks of the student in subject- 1 : 90\n",
            "Enter the marks of the student in subject- 2 : 85\n",
            "Enter the marks of the student in subject- 3 : 95\n",
            "\n",
            "Details of the student:\n",
            "Name of the student:  Priya\n",
            "Student's USN:  20bcs026\n",
            "Student's marks list:  [90, 85, 95]\n"
          ]
        }
      ]
    },
    {
      "cell_type": "markdown",
      "metadata": {
        "id": "Dox5CZbYtWYQ"
      },
      "source": [
        "Question - 5"
      ]
    },
    {
      "cell_type": "code",
      "metadata": {
        "id": "q346BA3xJx4a",
        "colab": {
          "base_uri": "https://localhost:8080/"
        },
        "outputId": "53498910-40ca-4a84-e586-18dee3826b6d"
      },
      "source": [
        "class Patient:\n",
        "  def __init__(self, name, admission_date, symptoms : list, oxygen_level, discharge_date):\n",
        "    self.name = name\n",
        "    self.admission_date = admission_date\n",
        "    self.symptoms = symptoms\n",
        "    self.oxygen_level = oxygen_level\n",
        "    self.discharge_date = discharge_date\n",
        "\n",
        "class PATIENT:\n",
        "  def __init__(self):\n",
        "    self.oxygen_support = []\n",
        "    self.general_ward = []\n",
        "\n",
        "  def check_severiy(self, patient):\n",
        "    if (patient.oxygen_level < 90):\n",
        "      self.oxygen_support.append(patient)\n",
        "    else:\n",
        "      self.general_ward.append(patient)\n",
        "\n",
        "  def count_oxy_support(self):\n",
        "    print(f\"Total number of patients require oxygen support = {len(self.oxygen_support)}\")\n",
        "\n",
        "  def count_general(self):\n",
        "    print(f\"Total number of patients in general ward = {len(self.general_ward)}\")\n",
        "\n",
        "  def totalPatients(self):\n",
        "    print(f\"Total number of patients admitted = {len(self.general_ward)+len(self.oxygen_support)}\")\n",
        "\n",
        "  def display_patientInfo(self):\n",
        "    print(\"Patients in oxygen support\")\n",
        "    for patient in self.oxygen_support:\n",
        "      print(\"\\n\")\n",
        "      print(\"Name:\", patient.name)\n",
        "      print(\"Admission Date:\", patient.admission_date)\n",
        "      print(\"symptoms:\", patient.symptoms)\n",
        "      print(\"oxygen level:\", patient.oxygen_level)\n",
        "      print(\"Discharge Date:\", patient.discharge_date)\n",
        "      print(\"\\n\")\n",
        "\n",
        "    print(\"Patients in General ward\")\n",
        "    for patient in self.general_ward:\n",
        "      print(\"Name:\", patient.name)\n",
        "      print(\"Admission Date:\", patient.admission_date)\n",
        "      print(\"symptoms:\", patient.symptoms)\n",
        "      print(\"oxygen level:\", patient.oxygen_level)\n",
        "      print(\"Discharge Date:\", patient.discharge_date)\n",
        "      print(\"\\n\")\n",
        "\n",
        "patient1 = Patient(\"Sonu\", \"09/09/2021\", [\"Fever\", \"Cold\"], 88, \"11/09/2021\")\n",
        "patient2 = Patient(\"Arun\", \"10/09/2021\", [\"Headache\",\"Cold\",\"cough\" ,\"Fever\"], 98, \"14/09/2021\")\n",
        "patient3 = Patient(\"Ajith\", \"13/09/2021\", [\"Cold\",\"cough\"], 90, \"13/09/2021\")\n",
        "\n",
        "P = PATIENT()\n",
        "P.check_severiy(patient1)\n",
        "P.check_severiy(patient2)\n",
        "P.check_severiy(patient3)\n",
        "P.display_patientInfo()\n",
        "P.count_oxy_support()\n",
        "P.count_general()\n",
        "P.totalPatients()"
      ],
      "execution_count": 15,
      "outputs": [
        {
          "output_type": "stream",
          "name": "stdout",
          "text": [
            "Patients in oxygen support\n",
            "\n",
            "\n",
            "Name: Sonu\n",
            "Admission Date: 09/09/2021\n",
            "symptoms: ['Fever', 'Cold']\n",
            "oxygen level: 88\n",
            "Discharge Date: 11/09/2021\n",
            "\n",
            "\n",
            "Patients in General ward\n",
            "Name: Arun\n",
            "Admission Date: 10/09/2021\n",
            "symptoms: ['Headache', 'Cold', 'cough', 'Fever']\n",
            "oxygen level: 98\n",
            "Discharge Date: 14/09/2021\n",
            "\n",
            "\n",
            "Name: Ajith\n",
            "Admission Date: 13/09/2021\n",
            "symptoms: ['Cold', 'cough']\n",
            "oxygen level: 90\n",
            "Discharge Date: 13/09/2021\n",
            "\n",
            "\n",
            "Total number of patients require oxygen support = 1\n",
            "Total number of patients in general ward = 2\n",
            "Total number of patients admitted = 3\n"
          ]
        }
      ]
    },
    {
      "cell_type": "markdown",
      "metadata": {
        "id": "R1H89vQbtYYk"
      },
      "source": [
        "Question - 6"
      ]
    },
    {
      "cell_type": "code",
      "metadata": {
        "colab": {
          "base_uri": "https://localhost:8080/"
        },
        "id": "ZZCs0BEdJ5xE",
        "outputId": "48bf7fdb-f022-4dd0-af72-6b5ddbae347f"
      },
      "source": [
        "class Time:\n",
        "    def __init__(self, hours, minutes, seconds):\n",
        "        self.hours = hours\n",
        "        self.minutes = minutes\n",
        "        self.seconds = seconds\n",
        "    def display(self):\n",
        "        print(self.hours,\":\",self.minutes,\":\",self.seconds)\n",
        "initime=Time(0,0,0)\n",
        "TIME = Time(4,50,55)\n",
        "TIME.display()"
      ],
      "execution_count": 16,
      "outputs": [
        {
          "output_type": "stream",
          "name": "stdout",
          "text": [
            "4 : 50 : 55\n"
          ]
        }
      ]
    },
    {
      "cell_type": "markdown",
      "metadata": {
        "id": "GsA0uEjKta28"
      },
      "source": [
        "Question - 7"
      ]
    },
    {
      "cell_type": "code",
      "metadata": {
        "colab": {
          "base_uri": "https://localhost:8080/"
        },
        "id": "QoYhYbNLPBO3",
        "outputId": "e44472fc-a035-450d-b103-f54ae3950e42"
      },
      "source": [
        "class student:\n",
        "    \n",
        "    def __init__(self, name,age, roll_num):\n",
        "        self.name = name\n",
        "        self.age = age\n",
        "        self.roll_num = roll_num\n",
        "\n",
        "def compare(std1,std2):\n",
        "  if(std1.age==std2.age):\n",
        "    print(\"Students have equal age\")\n",
        "  else:\n",
        "    print(\"Students do not have equal age\")\n",
        "\n",
        "std1=student(\"Rahul\",21,33)\n",
        "std2=student(\"Rohit\",22,74)\n",
        "\n",
        "compare(std1,std2)"
      ],
      "execution_count": 17,
      "outputs": [
        {
          "output_type": "stream",
          "name": "stdout",
          "text": [
            "Students do not have equal age\n"
          ]
        }
      ]
    },
    {
      "cell_type": "markdown",
      "metadata": {
        "id": "7YaMF1T3tdIk"
      },
      "source": [
        "Question - 8"
      ]
    },
    {
      "cell_type": "code",
      "metadata": {
        "colab": {
          "base_uri": "https://localhost:8080/"
        },
        "id": "47hEqKPgSjN0",
        "outputId": "051eafca-d601-40c7-91a7-0dfc5b24f03d"
      },
      "source": [
        "class student:\n",
        "    Sem = 3\n",
        "    Institute = \"IIIT DWD\"\n",
        "    def __init__(self, name,usn):\n",
        "        self.name = name\n",
        "        self.usn = usn\n",
        "\n",
        "    def display(self):\n",
        "      print(self.name,self.usn)\n",
        "    \n",
        "    @staticmethod\n",
        "    def getExplanation():\n",
        "        print(\"Class variables (sem, Institute) are printed using ClassMethod and Instance variables (name, usn) are printed using Instance Method\")\n",
        "\n",
        "print(student.Sem)\n",
        "print(student.Institute)\n",
        "std = student(\"Priya\",\"20bcs026\")\n",
        "print(std.name)\n",
        "print(std.usn)\n",
        "print(\"\")\n",
        "std.display()\n",
        "std.getExplanation()\n"
      ],
      "execution_count": 8,
      "outputs": [
        {
          "output_type": "stream",
          "name": "stdout",
          "text": [
            "3\n",
            "IIIT DWD\n",
            "Priya\n",
            "20bcs026\n",
            "\n",
            "Priya 20bcs026\n",
            "Class variables (sem, Institute) are printed using ClassMethod and Instance variables (name, usn) are printed using Instance Method\n"
          ]
        }
      ]
    },
    {
      "cell_type": "markdown",
      "metadata": {
        "id": "YezLYpehtfS-"
      },
      "source": [
        "Question - 9"
      ]
    },
    {
      "cell_type": "code",
      "metadata": {
        "id": "KGUnfmXmbngf",
        "colab": {
          "base_uri": "https://localhost:8080/"
        },
        "outputId": "dce31dff-0626-45b5-d90f-394c6e85c3c3"
      },
      "source": [
        "class Student:\n",
        "\n",
        "  def __init__(self, Name, roll_number, semester, laptop_name, laptop_price, laptop_Gen, laptop_cpu, laptop_ram, laptop_hard_disk):\n",
        "    self.name = Name\n",
        "    self.roll_num = roll_number\n",
        "    self.sem = semester\n",
        "    self.laptop = self.Laptop(laptop_name, laptop_price, laptop_Gen, laptop_cpu, laptop_ram, laptop_hard_disk)\n",
        "\n",
        "\n",
        "  class Laptop:\n",
        "    def __init__(self, name, price, Gen, cpu, ram : int, hard_disk):\n",
        "      self.name = name\n",
        "      self.price = price\n",
        "      self.Gen = Gen\n",
        "      self.cpu = cpu\n",
        "      self.ram = ram\n",
        "      self.hard_disk = hard_disk\n",
        "\n",
        "    def specifications(self):\n",
        "      print(\"Laptop Name:\", self.name)\n",
        "      print(\"Laptop Price:\", self.price)\n",
        "      print(\"Laptop Gen:\", self.Gen)\n",
        "      print(\"Laptop CPU:\", self.cpu)\n",
        "      print(\"Laptop RAM:\", self.ram, \"GB\")\n",
        "      print(\"Laptop Hard disk:\", self.hard_disk)\n",
        "\n",
        "  def display(self):\n",
        "    print(\"Name:\", self.name)\n",
        "    print(\"Roll Number:\", self.roll_num)\n",
        "    print(\"Sem:\", self.sem)\n",
        "    self.laptop.specifications()\n",
        "\n",
        "x = Student(\"Priya\", 26 , 3,\"ASUS\",\"68,000\" ,\"8th gen\" ,\"Intel Core i5\", 16, \"152 GB SSD\")\n",
        "x.display()"
      ],
      "execution_count": 19,
      "outputs": [
        {
          "output_type": "stream",
          "name": "stdout",
          "text": [
            "Name: Priya\n",
            "Roll Number: 26\n",
            "Sem: 3\n",
            "Laptop Name: ASUS\n",
            "Laptop Price: 68,000\n",
            "Laptop Gen: 8th gen\n",
            "Laptop CPU: Intel Core i5\n",
            "Laptop RAM: 16 GB\n",
            "Laptop Hard disk: 152 GB SSD\n"
          ]
        }
      ]
    }
  ]
}